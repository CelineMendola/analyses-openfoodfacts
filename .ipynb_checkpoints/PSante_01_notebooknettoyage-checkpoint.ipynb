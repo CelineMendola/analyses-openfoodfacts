{
 "cells": [
  {
   "cell_type": "markdown",
   "metadata": {},
   "source": [
    "### Imports"
   ]
  },
  {
   "cell_type": "code",
   "execution_count": 1,
   "metadata": {},
   "outputs": [],
   "source": [
    "#import des librairies\n",
    "import pandas as pd \n",
    "import missingno as msno\n",
    "import numpy as np\n",
    "import seaborn as sns\n",
    "import matplotlib.pyplot as plt\n",
    "import re\n",
    "%matplotlib inline\n"
   ]
  },
  {
   "cell_type": "markdown",
   "metadata": {},
   "source": [
    "Le code java suivant permet d'avoir les graphiques complètement affichés dans le notebook (sans avoir à scroller des fenêtres)"
   ]
  },
  {
   "cell_type": "code",
   "execution_count": 2,
   "metadata": {},
   "outputs": [
    {
     "data": {
      "application/javascript": [
       "IPython.OutputArea.prototype._should_scroll = function(lines) {\n",
       "    return false;\n",
       "}\n"
      ],
      "text/plain": [
       "<IPython.core.display.Javascript object>"
      ]
     },
     "metadata": {},
     "output_type": "display_data"
    }
   ],
   "source": [
    "%%javascript\n",
    "IPython.OutputArea.prototype._should_scroll = function(lines) {\n",
    "    return false;\n",
    "}"
   ]
  },
  {
   "cell_type": "code",
   "execution_count": 3,
   "metadata": {},
   "outputs": [],
   "source": [
    "#import du dataset en csv, puis export au format pickle pour gagner en rapidité\n",
    "\n",
    "#df=pd.read_csv('en.openfoodfacts.org.products.csv',sep='\\t')\n",
    "#df.to_pickle('en.openfoodfacts.org.products.pkl')"
   ]
  },
  {
   "cell_type": "code",
   "execution_count": 4,
   "metadata": {},
   "outputs": [],
   "source": [
    "df=pd.read_pickle('en.openfoodfacts.org.products.pkl')"
   ]
  },
  {
   "cell_type": "code",
   "execution_count": 5,
   "metadata": {},
   "outputs": [
    {
     "data": {
      "text/html": [
       "<div>\n",
       "<style scoped>\n",
       "    .dataframe tbody tr th:only-of-type {\n",
       "        vertical-align: middle;\n",
       "    }\n",
       "\n",
       "    .dataframe tbody tr th {\n",
       "        vertical-align: top;\n",
       "    }\n",
       "\n",
       "    .dataframe thead th {\n",
       "        text-align: right;\n",
       "    }\n",
       "</style>\n",
       "<table border=\"1\" class=\"dataframe\">\n",
       "  <thead>\n",
       "    <tr style=\"text-align: right;\">\n",
       "      <th></th>\n",
       "      <th>code</th>\n",
       "      <th>url</th>\n",
       "      <th>creator</th>\n",
       "      <th>created_t</th>\n",
       "      <th>created_datetime</th>\n",
       "      <th>last_modified_t</th>\n",
       "      <th>last_modified_datetime</th>\n",
       "      <th>product_name</th>\n",
       "      <th>abbreviated_product_name</th>\n",
       "      <th>generic_name</th>\n",
       "      <th>...</th>\n",
       "      <th>carbon-footprint-from-meat-or-fish_100g</th>\n",
       "      <th>nutrition-score-fr_100g</th>\n",
       "      <th>nutrition-score-uk_100g</th>\n",
       "      <th>glycemic-index_100g</th>\n",
       "      <th>water-hardness_100g</th>\n",
       "      <th>choline_100g</th>\n",
       "      <th>phylloquinone_100g</th>\n",
       "      <th>beta-glucan_100g</th>\n",
       "      <th>inositol_100g</th>\n",
       "      <th>carnitine_100g</th>\n",
       "    </tr>\n",
       "  </thead>\n",
       "  <tbody>\n",
       "    <tr>\n",
       "      <th>0</th>\n",
       "      <td>00000000000000225</td>\n",
       "      <td>http://world-en.openfoodfacts.org/product/0000...</td>\n",
       "      <td>nutrinet-sante</td>\n",
       "      <td>1623855208</td>\n",
       "      <td>2021-06-16T14:53:28Z</td>\n",
       "      <td>1623855209</td>\n",
       "      <td>2021-06-16T14:53:29Z</td>\n",
       "      <td>jeunes pousses</td>\n",
       "      <td>NaN</td>\n",
       "      <td>NaN</td>\n",
       "      <td>...</td>\n",
       "      <td>NaN</td>\n",
       "      <td>NaN</td>\n",
       "      <td>NaN</td>\n",
       "      <td>NaN</td>\n",
       "      <td>NaN</td>\n",
       "      <td>NaN</td>\n",
       "      <td>NaN</td>\n",
       "      <td>NaN</td>\n",
       "      <td>NaN</td>\n",
       "      <td>NaN</td>\n",
       "    </tr>\n",
       "    <tr>\n",
       "      <th>1</th>\n",
       "      <td>00000000000003429145</td>\n",
       "      <td>http://world-en.openfoodfacts.org/product/0000...</td>\n",
       "      <td>kiliweb</td>\n",
       "      <td>1630483911</td>\n",
       "      <td>2021-09-01T08:11:51Z</td>\n",
       "      <td>1630484064</td>\n",
       "      <td>2021-09-01T08:14:24Z</td>\n",
       "      <td>L.casei</td>\n",
       "      <td>NaN</td>\n",
       "      <td>NaN</td>\n",
       "      <td>...</td>\n",
       "      <td>NaN</td>\n",
       "      <td>NaN</td>\n",
       "      <td>NaN</td>\n",
       "      <td>NaN</td>\n",
       "      <td>NaN</td>\n",
       "      <td>NaN</td>\n",
       "      <td>NaN</td>\n",
       "      <td>NaN</td>\n",
       "      <td>NaN</td>\n",
       "      <td>NaN</td>\n",
       "    </tr>\n",
       "    <tr>\n",
       "      <th>2</th>\n",
       "      <td>0000000000017</td>\n",
       "      <td>http://world-en.openfoodfacts.org/product/0000...</td>\n",
       "      <td>kiliweb</td>\n",
       "      <td>1529059080</td>\n",
       "      <td>2018-06-15T10:38:00Z</td>\n",
       "      <td>1561463718</td>\n",
       "      <td>2019-06-25T11:55:18Z</td>\n",
       "      <td>Vitória crackers</td>\n",
       "      <td>NaN</td>\n",
       "      <td>NaN</td>\n",
       "      <td>...</td>\n",
       "      <td>NaN</td>\n",
       "      <td>NaN</td>\n",
       "      <td>NaN</td>\n",
       "      <td>NaN</td>\n",
       "      <td>NaN</td>\n",
       "      <td>NaN</td>\n",
       "      <td>NaN</td>\n",
       "      <td>NaN</td>\n",
       "      <td>NaN</td>\n",
       "      <td>NaN</td>\n",
       "    </tr>\n",
       "    <tr>\n",
       "      <th>3</th>\n",
       "      <td>0000000000031</td>\n",
       "      <td>http://world-en.openfoodfacts.org/product/0000...</td>\n",
       "      <td>isagoofy</td>\n",
       "      <td>1539464774</td>\n",
       "      <td>2018-10-13T21:06:14Z</td>\n",
       "      <td>1539464817</td>\n",
       "      <td>2018-10-13T21:06:57Z</td>\n",
       "      <td>Cacao</td>\n",
       "      <td>NaN</td>\n",
       "      <td>NaN</td>\n",
       "      <td>...</td>\n",
       "      <td>NaN</td>\n",
       "      <td>NaN</td>\n",
       "      <td>NaN</td>\n",
       "      <td>NaN</td>\n",
       "      <td>NaN</td>\n",
       "      <td>NaN</td>\n",
       "      <td>NaN</td>\n",
       "      <td>NaN</td>\n",
       "      <td>NaN</td>\n",
       "      <td>NaN</td>\n",
       "    </tr>\n",
       "    <tr>\n",
       "      <th>4</th>\n",
       "      <td>000000000003327986</td>\n",
       "      <td>http://world-en.openfoodfacts.org/product/0000...</td>\n",
       "      <td>kiliweb</td>\n",
       "      <td>1574175736</td>\n",
       "      <td>2019-11-19T15:02:16Z</td>\n",
       "      <td>1624390765</td>\n",
       "      <td>2021-06-22T19:39:25Z</td>\n",
       "      <td>Filetes de pollo empanado</td>\n",
       "      <td>NaN</td>\n",
       "      <td>NaN</td>\n",
       "      <td>...</td>\n",
       "      <td>NaN</td>\n",
       "      <td>NaN</td>\n",
       "      <td>NaN</td>\n",
       "      <td>NaN</td>\n",
       "      <td>NaN</td>\n",
       "      <td>NaN</td>\n",
       "      <td>NaN</td>\n",
       "      <td>NaN</td>\n",
       "      <td>NaN</td>\n",
       "      <td>NaN</td>\n",
       "    </tr>\n",
       "  </tbody>\n",
       "</table>\n",
       "<p>5 rows × 186 columns</p>\n",
       "</div>"
      ],
      "text/plain": [
       "                   code                                                url  \\\n",
       "0     00000000000000225  http://world-en.openfoodfacts.org/product/0000...   \n",
       "1  00000000000003429145  http://world-en.openfoodfacts.org/product/0000...   \n",
       "2         0000000000017  http://world-en.openfoodfacts.org/product/0000...   \n",
       "3         0000000000031  http://world-en.openfoodfacts.org/product/0000...   \n",
       "4    000000000003327986  http://world-en.openfoodfacts.org/product/0000...   \n",
       "\n",
       "          creator   created_t      created_datetime  last_modified_t  \\\n",
       "0  nutrinet-sante  1623855208  2021-06-16T14:53:28Z       1623855209   \n",
       "1         kiliweb  1630483911  2021-09-01T08:11:51Z       1630484064   \n",
       "2         kiliweb  1529059080  2018-06-15T10:38:00Z       1561463718   \n",
       "3        isagoofy  1539464774  2018-10-13T21:06:14Z       1539464817   \n",
       "4         kiliweb  1574175736  2019-11-19T15:02:16Z       1624390765   \n",
       "\n",
       "  last_modified_datetime               product_name abbreviated_product_name  \\\n",
       "0   2021-06-16T14:53:29Z             jeunes pousses                      NaN   \n",
       "1   2021-09-01T08:14:24Z                    L.casei                      NaN   \n",
       "2   2019-06-25T11:55:18Z           Vitória crackers                      NaN   \n",
       "3   2018-10-13T21:06:57Z                      Cacao                      NaN   \n",
       "4   2021-06-22T19:39:25Z  Filetes de pollo empanado                      NaN   \n",
       "\n",
       "  generic_name  ... carbon-footprint-from-meat-or-fish_100g  \\\n",
       "0          NaN  ...                                     NaN   \n",
       "1          NaN  ...                                     NaN   \n",
       "2          NaN  ...                                     NaN   \n",
       "3          NaN  ...                                     NaN   \n",
       "4          NaN  ...                                     NaN   \n",
       "\n",
       "  nutrition-score-fr_100g nutrition-score-uk_100g glycemic-index_100g  \\\n",
       "0                     NaN                     NaN                 NaN   \n",
       "1                     NaN                     NaN                 NaN   \n",
       "2                     NaN                     NaN                 NaN   \n",
       "3                     NaN                     NaN                 NaN   \n",
       "4                     NaN                     NaN                 NaN   \n",
       "\n",
       "  water-hardness_100g choline_100g phylloquinone_100g beta-glucan_100g  \\\n",
       "0                 NaN          NaN                NaN              NaN   \n",
       "1                 NaN          NaN                NaN              NaN   \n",
       "2                 NaN          NaN                NaN              NaN   \n",
       "3                 NaN          NaN                NaN              NaN   \n",
       "4                 NaN          NaN                NaN              NaN   \n",
       "\n",
       "  inositol_100g carnitine_100g  \n",
       "0           NaN            NaN  \n",
       "1           NaN            NaN  \n",
       "2           NaN            NaN  \n",
       "3           NaN            NaN  \n",
       "4           NaN            NaN  \n",
       "\n",
       "[5 rows x 186 columns]"
      ]
     },
     "execution_count": 5,
     "metadata": {},
     "output_type": "execute_result"
    }
   ],
   "source": [
    "df.head()"
   ]
  },
  {
   "cell_type": "code",
   "execution_count": 6,
   "metadata": {},
   "outputs": [
    {
     "data": {
      "text/plain": [
       "(1943926, 186)"
      ]
     },
     "execution_count": 6,
     "metadata": {},
     "output_type": "execute_result"
    }
   ],
   "source": [
    "df.shape"
   ]
  },
  {
   "cell_type": "markdown",
   "metadata": {},
   "source": [
    "### Suppression des doublons (1)"
   ]
  },
  {
   "cell_type": "markdown",
   "metadata": {},
   "source": [
    "Dans un premier temps, on supprime les doublons sur l'ensemble des variables du dataset. Après une meilleure connaissance des variables et un peu de nettoyage, nous supprimerons d'autres doublons. "
   ]
  },
  {
   "cell_type": "code",
   "execution_count": 7,
   "metadata": {},
   "outputs": [],
   "source": [
    "df=df.drop_duplicates()"
   ]
  },
  {
   "cell_type": "code",
   "execution_count": 8,
   "metadata": {},
   "outputs": [
    {
     "data": {
      "text/plain": [
       "(1943925, 186)"
      ]
     },
     "execution_count": 8,
     "metadata": {},
     "output_type": "execute_result"
    }
   ],
   "source": [
    "df.shape"
   ]
  },
  {
   "cell_type": "markdown",
   "metadata": {},
   "source": [
    "### Sélection des colonnes"
   ]
  },
  {
   "cell_type": "markdown",
   "metadata": {},
   "source": [
    "#### 1er tri : on garde les colonnes qui ont moins de 80% de valeurs manquantes"
   ]
  },
  {
   "cell_type": "code",
   "execution_count": 9,
   "metadata": {},
   "outputs": [
    {
     "name": "stdout",
     "output_type": "stream",
     "text": [
      "code 0.0\n",
      "url 0.0\n",
      "creator 0.0\n",
      "created_t 0.0\n",
      "created_datetime 0.0\n",
      "last_modified_t 0.0\n",
      "last_modified_datetime 0.0\n",
      "product_name 4.1\n",
      "abbreviated_product_name 99.6\n",
      "generic_name 93.8\n",
      "quantity 75.2\n",
      "packaging 84.4\n",
      "packaging_tags 84.4\n",
      "packaging_text 99.7\n",
      "brands 48.2\n",
      "brands_tags 48.2\n",
      "categories 53.0\n",
      "categories_tags 53.0\n",
      "categories_en 53.0\n",
      "origins 95.7\n",
      "origins_tags 95.7\n",
      "origins_en 95.7\n",
      "manufacturing_places 93.7\n",
      "manufacturing_places_tags 93.7\n",
      "labels 78.8\n",
      "labels_tags 78.8\n",
      "labels_en 78.8\n",
      "emb_codes 93.8\n",
      "emb_codes_tags 93.8\n",
      "first_packaging_code_geo 96.3\n",
      "cities 100.0\n",
      "cities_tags 96.0\n",
      "purchase_places 91.9\n",
      "stores 86.5\n",
      "countries 0.3\n",
      "countries_tags 0.3\n",
      "countries_en 0.3\n",
      "ingredients_text 63.3\n",
      "allergens 90.3\n",
      "allergens_en 100.0\n",
      "traces 94.8\n",
      "traces_tags 93.6\n",
      "traces_en 93.6\n",
      "serving_size 74.5\n",
      "serving_quantity 74.8\n",
      "no_nutriments 100.0\n",
      "additives_n 63.3\n",
      "additives 100.0\n",
      "additives_tags 78.8\n",
      "additives_en 78.8\n",
      "ingredients_from_palm_oil_n 63.3\n",
      "ingredients_from_palm_oil 100.0\n",
      "ingredients_from_palm_oil_tags 99.3\n",
      "ingredients_that_may_be_from_palm_oil_n 63.3\n",
      "ingredients_that_may_be_from_palm_oil 100.0\n",
      "ingredients_that_may_be_from_palm_oil_tags 97.8\n",
      "nutriscore_score 63.6\n",
      "nutriscore_grade 63.6\n",
      "nova_group 68.0\n",
      "pnns_groups_1 0.0\n",
      "pnns_groups_2 0.0\n",
      "states 0.0\n",
      "states_tags 0.0\n",
      "states_en 0.0\n",
      "brand_owner 85.1\n",
      "ecoscore_score_fr 75.9\n",
      "ecoscore_grade_fr 75.9\n",
      "main_category 53.0\n",
      "main_category_en 53.0\n",
      "image_url 23.6\n",
      "image_small_url 23.6\n",
      "image_ingredients_url 64.0\n",
      "image_ingredients_small_url 64.0\n",
      "image_nutrition_url 48.5\n",
      "image_nutrition_small_url 48.5\n",
      "energy-kj_100g 92.8\n",
      "energy-kcal_100g 23.2\n",
      "energy_100g 20.6\n",
      "energy-from-fat_100g 99.9\n",
      "fat_100g 21.0\n",
      "saturated-fat_100g 23.2\n",
      "-butyric-acid_100g 100.0\n",
      "-caproic-acid_100g 100.0\n",
      "-caprylic-acid_100g 100.0\n",
      "-capric-acid_100g 100.0\n",
      "-lauric-acid_100g 100.0\n",
      "-myristic-acid_100g 100.0\n",
      "-palmitic-acid_100g 100.0\n",
      "-stearic-acid_100g 100.0\n",
      "-arachidic-acid_100g 100.0\n",
      "-behenic-acid_100g 100.0\n",
      "-lignoceric-acid_100g 100.0\n",
      "-cerotic-acid_100g 100.0\n",
      "-montanic-acid_100g 100.0\n",
      "-melissic-acid_100g 100.0\n",
      "monounsaturated-fat_100g 97.5\n",
      "polyunsaturated-fat_100g 97.5\n",
      "omega-3-fat_100g 99.9\n",
      "-alpha-linolenic-acid_100g 100.0\n",
      "-eicosapentaenoic-acid_100g 100.0\n",
      "-docosahexaenoic-acid_100g 100.0\n",
      "omega-6-fat_100g 100.0\n",
      "-linoleic-acid_100g 100.0\n",
      "-arachidonic-acid_100g 100.0\n",
      "-gamma-linolenic-acid_100g 100.0\n",
      "-dihomo-gamma-linolenic-acid_100g 100.0\n",
      "omega-9-fat_100g 100.0\n",
      "-oleic-acid_100g 100.0\n",
      "-elaidic-acid_100g 100.0\n",
      "-gondoic-acid_100g 100.0\n",
      "-mead-acid_100g 100.0\n",
      "-erucic-acid_100g 100.0\n",
      "-nervonic-acid_100g 100.0\n",
      "trans-fat_100g 86.4\n",
      "cholesterol_100g 86.2\n",
      "carbohydrates_100g 21.0\n",
      "sugars_100g 21.8\n",
      "-sucrose_100g 100.0\n",
      "-glucose_100g 100.0\n",
      "-fructose_100g 100.0\n",
      "-lactose_100g 100.0\n",
      "-maltose_100g 100.0\n",
      "-maltodextrins_100g 100.0\n",
      "starch_100g 100.0\n",
      "polyols_100g 99.8\n",
      "fiber_100g 75.0\n",
      "-soluble-fiber_100g 99.8\n",
      "-insoluble-fiber_100g 99.8\n",
      "proteins_100g 20.9\n",
      "casein_100g 100.0\n",
      "serum-proteins_100g 100.0\n",
      "nucleotides_100g 100.0\n",
      "salt_100g 24.9\n",
      "sodium_100g 24.9\n",
      "alcohol_100g 98.9\n",
      "vitamin-a_100g 89.1\n",
      "beta-carotene_100g 100.0\n",
      "vitamin-d_100g 99.5\n",
      "vitamin-e_100g 99.8\n",
      "vitamin-k_100g 99.9\n",
      "vitamin-c_100g 88.7\n",
      "vitamin-b1_100g 98.8\n",
      "vitamin-b2_100g 98.8\n",
      "vitamin-pp_100g 98.8\n",
      "vitamin-b6_100g 99.2\n",
      "vitamin-b9_100g 99.5\n",
      "folates_100g 99.6\n",
      "vitamin-b12_100g 99.3\n",
      "biotin_100g 99.9\n",
      "pantothenic-acid_100g 99.7\n",
      "silica_100g 100.0\n",
      "bicarbonate_100g 100.0\n",
      "potassium_100g 95.3\n",
      "chloride_100g 100.0\n",
      "calcium_100g 86.1\n",
      "phosphorus_100g 99.3\n",
      "iron_100g 86.4\n",
      "magnesium_100g 99.2\n",
      "zinc_100g 99.5\n",
      "copper_100g 99.8\n",
      "manganese_100g 99.8\n",
      "fluoride_100g 100.0\n",
      "selenium_100g 99.9\n",
      "chromium_100g 100.0\n",
      "molybdenum_100g 100.0\n",
      "iodine_100g 99.9\n",
      "caffeine_100g 100.0\n",
      "taurine_100g 100.0\n",
      "ph_100g 100.0\n",
      "fruits-vegetables-nuts_100g 99.5\n",
      "fruits-vegetables-nuts-dried_100g 100.0\n",
      "fruits-vegetables-nuts-estimate_100g 99.4\n",
      "collagen-meat-protein-ratio_100g 100.0\n",
      "cocoa_100g 99.7\n",
      "chlorophyl_100g 100.0\n",
      "carbon-footprint_100g 100.0\n",
      "carbon-footprint-from-meat-or-fish_100g 99.4\n",
      "nutrition-score-fr_100g 63.6\n",
      "nutrition-score-uk_100g 100.0\n",
      "glycemic-index_100g 100.0\n",
      "water-hardness_100g 100.0\n",
      "choline_100g 100.0\n",
      "phylloquinone_100g 99.9\n",
      "beta-glucan_100g 100.0\n",
      "inositol_100g 100.0\n",
      "carnitine_100g 100.0\n"
     ]
    }
   ],
   "source": [
    "#Affichage des colonnes avec le pourcentage de valeurs manquantes correspondant\n",
    "c=df.isna().mean()\n",
    "for index,val in c.iteritems():\n",
    "    print(index,round(val*100,1))"
   ]
  },
  {
   "cell_type": "code",
   "execution_count": 10,
   "metadata": {},
   "outputs": [],
   "source": [
    "#on conserve les colonnes qui possèdent moins de 80 % de valeurs manquantes\n",
    "mask=df.isna().mean()<0.8\n",
    "dg=df.loc[:,mask]"
   ]
  },
  {
   "cell_type": "code",
   "execution_count": 11,
   "metadata": {},
   "outputs": [],
   "source": [
    "dg.reset_index(inplace=True,drop=True)"
   ]
  },
  {
   "cell_type": "code",
   "execution_count": 12,
   "metadata": {},
   "outputs": [
    {
     "data": {
      "text/plain": [
       "(1943925, 57)"
      ]
     },
     "execution_count": 12,
     "metadata": {},
     "output_type": "execute_result"
    }
   ],
   "source": [
    "dg.shape"
   ]
  },
  {
   "cell_type": "code",
   "execution_count": 13,
   "metadata": {},
   "outputs": [],
   "source": [
    "dg2=dg.copy()"
   ]
  },
  {
   "cell_type": "markdown",
   "metadata": {},
   "source": [
    "#### 2nd tri : sélection spécifique pour la suite des analyses"
   ]
  },
  {
   "cell_type": "code",
   "execution_count": 14,
   "metadata": {
    "scrolled": true
   },
   "outputs": [],
   "source": [
    "col_to_keep=['code','last_modified_t','last_modified_datetime','url','brands','brands_tags','product_name','additives_n','ingredients_from_palm_oil_n','nutriscore_grade','nutriscore_score','nova_group',\\\n",
    "            'pnns_groups_1','pnns_groups_2', 'proteins_100g','energy-kcal_100g','energy_100g','fat_100g','saturated-fat_100g','carbohydrates_100g','sugars_100g'\\\n",
    "            ,'fiber_100g','salt_100g','sodium_100g','serving_size','serving_quantity','labels','ecoscore_grade_fr','ecoscore_score_fr']"
   ]
  },
  {
   "cell_type": "code",
   "execution_count": 15,
   "metadata": {},
   "outputs": [],
   "source": [
    "dg=dg.loc[:,col_to_keep]"
   ]
  },
  {
   "cell_type": "code",
   "execution_count": 16,
   "metadata": {},
   "outputs": [
    {
     "data": {
      "text/html": [
       "<div>\n",
       "<style scoped>\n",
       "    .dataframe tbody tr th:only-of-type {\n",
       "        vertical-align: middle;\n",
       "    }\n",
       "\n",
       "    .dataframe tbody tr th {\n",
       "        vertical-align: top;\n",
       "    }\n",
       "\n",
       "    .dataframe thead th {\n",
       "        text-align: right;\n",
       "    }\n",
       "</style>\n",
       "<table border=\"1\" class=\"dataframe\">\n",
       "  <thead>\n",
       "    <tr style=\"text-align: right;\">\n",
       "      <th></th>\n",
       "      <th>code</th>\n",
       "      <th>last_modified_t</th>\n",
       "      <th>last_modified_datetime</th>\n",
       "      <th>url</th>\n",
       "      <th>brands</th>\n",
       "      <th>brands_tags</th>\n",
       "      <th>product_name</th>\n",
       "      <th>additives_n</th>\n",
       "      <th>ingredients_from_palm_oil_n</th>\n",
       "      <th>nutriscore_grade</th>\n",
       "      <th>...</th>\n",
       "      <th>carbohydrates_100g</th>\n",
       "      <th>sugars_100g</th>\n",
       "      <th>fiber_100g</th>\n",
       "      <th>salt_100g</th>\n",
       "      <th>sodium_100g</th>\n",
       "      <th>serving_size</th>\n",
       "      <th>serving_quantity</th>\n",
       "      <th>labels</th>\n",
       "      <th>ecoscore_grade_fr</th>\n",
       "      <th>ecoscore_score_fr</th>\n",
       "    </tr>\n",
       "  </thead>\n",
       "  <tbody>\n",
       "    <tr>\n",
       "      <th>0</th>\n",
       "      <td>00000000000000225</td>\n",
       "      <td>1623855209</td>\n",
       "      <td>2021-06-16T14:53:29Z</td>\n",
       "      <td>http://world-en.openfoodfacts.org/product/0000...</td>\n",
       "      <td>endives</td>\n",
       "      <td>endives</td>\n",
       "      <td>jeunes pousses</td>\n",
       "      <td>NaN</td>\n",
       "      <td>NaN</td>\n",
       "      <td>NaN</td>\n",
       "      <td>...</td>\n",
       "      <td>NaN</td>\n",
       "      <td>NaN</td>\n",
       "      <td>NaN</td>\n",
       "      <td>NaN</td>\n",
       "      <td>NaN</td>\n",
       "      <td>NaN</td>\n",
       "      <td>NaN</td>\n",
       "      <td>NaN</td>\n",
       "      <td>NaN</td>\n",
       "      <td>NaN</td>\n",
       "    </tr>\n",
       "    <tr>\n",
       "      <th>1</th>\n",
       "      <td>00000000000003429145</td>\n",
       "      <td>1630484064</td>\n",
       "      <td>2021-09-01T08:14:24Z</td>\n",
       "      <td>http://world-en.openfoodfacts.org/product/0000...</td>\n",
       "      <td>NaN</td>\n",
       "      <td>NaN</td>\n",
       "      <td>L.casei</td>\n",
       "      <td>0.0</td>\n",
       "      <td>0.0</td>\n",
       "      <td>NaN</td>\n",
       "      <td>...</td>\n",
       "      <td>9.8</td>\n",
       "      <td>9.8</td>\n",
       "      <td>NaN</td>\n",
       "      <td>0.1</td>\n",
       "      <td>0.04</td>\n",
       "      <td>NaN</td>\n",
       "      <td>NaN</td>\n",
       "      <td>NaN</td>\n",
       "      <td>NaN</td>\n",
       "      <td>NaN</td>\n",
       "    </tr>\n",
       "    <tr>\n",
       "      <th>2</th>\n",
       "      <td>0000000000017</td>\n",
       "      <td>1561463718</td>\n",
       "      <td>2019-06-25T11:55:18Z</td>\n",
       "      <td>http://world-en.openfoodfacts.org/product/0000...</td>\n",
       "      <td>NaN</td>\n",
       "      <td>NaN</td>\n",
       "      <td>Vitória crackers</td>\n",
       "      <td>NaN</td>\n",
       "      <td>NaN</td>\n",
       "      <td>NaN</td>\n",
       "      <td>...</td>\n",
       "      <td>70.1</td>\n",
       "      <td>15.0</td>\n",
       "      <td>NaN</td>\n",
       "      <td>1.4</td>\n",
       "      <td>0.56</td>\n",
       "      <td>NaN</td>\n",
       "      <td>NaN</td>\n",
       "      <td>NaN</td>\n",
       "      <td>NaN</td>\n",
       "      <td>NaN</td>\n",
       "    </tr>\n",
       "    <tr>\n",
       "      <th>3</th>\n",
       "      <td>0000000000031</td>\n",
       "      <td>1539464817</td>\n",
       "      <td>2018-10-13T21:06:57Z</td>\n",
       "      <td>http://world-en.openfoodfacts.org/product/0000...</td>\n",
       "      <td>NaN</td>\n",
       "      <td>NaN</td>\n",
       "      <td>Cacao</td>\n",
       "      <td>NaN</td>\n",
       "      <td>NaN</td>\n",
       "      <td>NaN</td>\n",
       "      <td>...</td>\n",
       "      <td>NaN</td>\n",
       "      <td>NaN</td>\n",
       "      <td>NaN</td>\n",
       "      <td>NaN</td>\n",
       "      <td>NaN</td>\n",
       "      <td>NaN</td>\n",
       "      <td>NaN</td>\n",
       "      <td>NaN</td>\n",
       "      <td>NaN</td>\n",
       "      <td>NaN</td>\n",
       "    </tr>\n",
       "    <tr>\n",
       "      <th>4</th>\n",
       "      <td>000000000003327986</td>\n",
       "      <td>1624390765</td>\n",
       "      <td>2021-06-22T19:39:25Z</td>\n",
       "      <td>http://world-en.openfoodfacts.org/product/0000...</td>\n",
       "      <td>NaN</td>\n",
       "      <td>NaN</td>\n",
       "      <td>Filetes de pollo empanado</td>\n",
       "      <td>NaN</td>\n",
       "      <td>NaN</td>\n",
       "      <td>NaN</td>\n",
       "      <td>...</td>\n",
       "      <td>NaN</td>\n",
       "      <td>NaN</td>\n",
       "      <td>NaN</td>\n",
       "      <td>1.1</td>\n",
       "      <td>0.44</td>\n",
       "      <td>NaN</td>\n",
       "      <td>NaN</td>\n",
       "      <td>NaN</td>\n",
       "      <td>NaN</td>\n",
       "      <td>NaN</td>\n",
       "    </tr>\n",
       "  </tbody>\n",
       "</table>\n",
       "<p>5 rows × 29 columns</p>\n",
       "</div>"
      ],
      "text/plain": [
       "                   code  last_modified_t last_modified_datetime  \\\n",
       "0     00000000000000225       1623855209   2021-06-16T14:53:29Z   \n",
       "1  00000000000003429145       1630484064   2021-09-01T08:14:24Z   \n",
       "2         0000000000017       1561463718   2019-06-25T11:55:18Z   \n",
       "3         0000000000031       1539464817   2018-10-13T21:06:57Z   \n",
       "4    000000000003327986       1624390765   2021-06-22T19:39:25Z   \n",
       "\n",
       "                                                 url   brands brands_tags  \\\n",
       "0  http://world-en.openfoodfacts.org/product/0000...  endives     endives   \n",
       "1  http://world-en.openfoodfacts.org/product/0000...      NaN         NaN   \n",
       "2  http://world-en.openfoodfacts.org/product/0000...      NaN         NaN   \n",
       "3  http://world-en.openfoodfacts.org/product/0000...      NaN         NaN   \n",
       "4  http://world-en.openfoodfacts.org/product/0000...      NaN         NaN   \n",
       "\n",
       "                product_name  additives_n  ingredients_from_palm_oil_n  \\\n",
       "0             jeunes pousses          NaN                          NaN   \n",
       "1                    L.casei          0.0                          0.0   \n",
       "2           Vitória crackers          NaN                          NaN   \n",
       "3                      Cacao          NaN                          NaN   \n",
       "4  Filetes de pollo empanado          NaN                          NaN   \n",
       "\n",
       "  nutriscore_grade  ...  carbohydrates_100g  sugars_100g fiber_100g salt_100g  \\\n",
       "0              NaN  ...                 NaN          NaN        NaN       NaN   \n",
       "1              NaN  ...                 9.8          9.8        NaN       0.1   \n",
       "2              NaN  ...                70.1         15.0        NaN       1.4   \n",
       "3              NaN  ...                 NaN          NaN        NaN       NaN   \n",
       "4              NaN  ...                 NaN          NaN        NaN       1.1   \n",
       "\n",
       "   sodium_100g  serving_size  serving_quantity  labels  ecoscore_grade_fr  \\\n",
       "0          NaN           NaN               NaN     NaN                NaN   \n",
       "1         0.04           NaN               NaN     NaN                NaN   \n",
       "2         0.56           NaN               NaN     NaN                NaN   \n",
       "3          NaN           NaN               NaN     NaN                NaN   \n",
       "4         0.44           NaN               NaN     NaN                NaN   \n",
       "\n",
       "   ecoscore_score_fr  \n",
       "0                NaN  \n",
       "1                NaN  \n",
       "2                NaN  \n",
       "3                NaN  \n",
       "4                NaN  \n",
       "\n",
       "[5 rows x 29 columns]"
      ]
     },
     "execution_count": 16,
     "metadata": {},
     "output_type": "execute_result"
    }
   ],
   "source": [
    "dg.head()"
   ]
  },
  {
   "cell_type": "markdown",
   "metadata": {},
   "source": [
    "Création d'une nouvelle colonne pour l'énergie pour 100 g. "
   ]
  },
  {
   "cell_type": "code",
   "execution_count": 17,
   "metadata": {},
   "outputs": [
    {
     "data": {
      "text/plain": [
       "0.20566276991139062"
      ]
     },
     "execution_count": 17,
     "metadata": {},
     "output_type": "execute_result"
    }
   ],
   "source": [
    "dg['energy_100g'].isna().mean() #proportion de valeurs manquantes pour la colonne 'energy_100g'"
   ]
  },
  {
   "cell_type": "code",
   "execution_count": 18,
   "metadata": {
    "scrolled": true
   },
   "outputs": [
    {
     "data": {
      "text/plain": [
       "0       NaN\n",
       "1       NaN\n",
       "2    1569.0\n",
       "3       NaN\n",
       "4     685.8\n",
       "Name: energy_100g, dtype: float64"
      ]
     },
     "execution_count": 18,
     "metadata": {},
     "output_type": "execute_result"
    }
   ],
   "source": [
    "dg['energy_100g'][:5] # l'unité est en KJ"
   ]
  },
  {
   "cell_type": "code",
   "execution_count": 19,
   "metadata": {},
   "outputs": [
    {
     "data": {
      "text/plain": [
       "0.23232840773177976"
      ]
     },
     "execution_count": 19,
     "metadata": {},
     "output_type": "execute_result"
    }
   ],
   "source": [
    "dg['energy-kcal_100g'].isna().mean() #proportion de valeurs manquantes pour la colonne 'energy-kcal_100g'"
   ]
  },
  {
   "cell_type": "code",
   "execution_count": 20,
   "metadata": {
    "scrolled": true
   },
   "outputs": [
    {
     "data": {
      "text/plain": [
       "0      NaN\n",
       "1      NaN\n",
       "2    375.0\n",
       "3      NaN\n",
       "4    163.9\n",
       "Name: energy-kcal_100g, dtype: float64"
      ]
     },
     "execution_count": 20,
     "metadata": {},
     "output_type": "execute_result"
    }
   ],
   "source": [
    "dg['energy-kcal_100g'][:5]"
   ]
  },
  {
   "cell_type": "markdown",
   "metadata": {},
   "source": [
    "La colonne 'energy_100g' possède moins de valeurs manquantes que 'energy-kcal_100g. On prend la valeur de la colonne 'energy_100g' convertie en kcal si elle est renseignée, sinon celle de 'energy-kcal_100g'"
   ]
  },
  {
   "cell_type": "code",
   "execution_count": 21,
   "metadata": {},
   "outputs": [],
   "source": [
    "def imp2col(x,y):\n",
    "    '''x représente une énergie en KJ et y en kcal\n",
    "    Cette fonction convertit l'énergie x en kcal si elle est non nulle, sinon elle retourne y '''\n",
    "    if not np.isnan(x):\n",
    "        return x/4.184\n",
    "    else:\n",
    "        return y\n",
    "dg['energy_kcal_100g']=dg.apply(lambda x : imp2col(x['energy_100g'],x['energy-kcal_100g']),axis=1)"
   ]
  },
  {
   "cell_type": "code",
   "execution_count": 22,
   "metadata": {},
   "outputs": [
    {
     "data": {
      "text/plain": [
       "399793"
      ]
     },
     "execution_count": 22,
     "metadata": {},
     "output_type": "execute_result"
    }
   ],
   "source": [
    "dg['energy_100g'].isna().sum()"
   ]
  },
  {
   "cell_type": "code",
   "execution_count": 23,
   "metadata": {},
   "outputs": [
    {
     "data": {
      "text/plain": [
       "399793"
      ]
     },
     "execution_count": 23,
     "metadata": {},
     "output_type": "execute_result"
    }
   ],
   "source": [
    "dg['energy_kcal_100g'].isna().sum() #nous n'avons pas récupéré de nouvelles valeurs."
   ]
  },
  {
   "cell_type": "code",
   "execution_count": 24,
   "metadata": {},
   "outputs": [],
   "source": [
    "dg=dg.drop(['energy_100g','energy-kcal_100g'],axis=1)"
   ]
  },
  {
   "cell_type": "markdown",
   "metadata": {},
   "source": [
    "La colonne serving_quantity est plus exploitable que serving_size. On retire donc cette dernière. "
   ]
  },
  {
   "cell_type": "code",
   "execution_count": 25,
   "metadata": {},
   "outputs": [
    {
     "data": {
      "text/plain": [
       "1448646"
      ]
     },
     "execution_count": 25,
     "metadata": {},
     "output_type": "execute_result"
    }
   ],
   "source": [
    "dg['serving_size'].isna().sum()"
   ]
  },
  {
   "cell_type": "code",
   "execution_count": 26,
   "metadata": {},
   "outputs": [
    {
     "data": {
      "text/plain": [
       "array([nan, 'serving', '28 g (1 ONZ)', ..., '68646464664g', '680587805g',\n",
       "       'tirt'], dtype=object)"
      ]
     },
     "execution_count": 26,
     "metadata": {},
     "output_type": "execute_result"
    }
   ],
   "source": [
    "dg['serving_size'].unique()"
   ]
  },
  {
   "cell_type": "code",
   "execution_count": 27,
   "metadata": {},
   "outputs": [
    {
     "data": {
      "text/plain": [
       "1453099"
      ]
     },
     "execution_count": 27,
     "metadata": {},
     "output_type": "execute_result"
    }
   ],
   "source": [
    "dg['serving_quantity'].isna().sum()"
   ]
  },
  {
   "cell_type": "code",
   "execution_count": 28,
   "metadata": {},
   "outputs": [
    {
     "data": {
      "text/plain": [
       "array([           nan, 2.80000000e+01, 3.50000000e+01, ...,\n",
       "       1.00000999e+11, 6.86464647e+10, 6.80587805e+08])"
      ]
     },
     "execution_count": 28,
     "metadata": {},
     "output_type": "execute_result"
    }
   ],
   "source": [
    "dg['serving_quantity'].unique()"
   ]
  },
  {
   "cell_type": "code",
   "execution_count": 29,
   "metadata": {},
   "outputs": [
    {
     "data": {
      "text/plain": [
       "Index(['code', 'last_modified_t', 'last_modified_datetime', 'url', 'brands',\n",
       "       'brands_tags', 'product_name', 'additives_n',\n",
       "       'ingredients_from_palm_oil_n', 'nutriscore_grade', 'nutriscore_score',\n",
       "       'nova_group', 'pnns_groups_1', 'pnns_groups_2', 'proteins_100g',\n",
       "       'fat_100g', 'saturated-fat_100g', 'carbohydrates_100g', 'sugars_100g',\n",
       "       'fiber_100g', 'salt_100g', 'sodium_100g', 'serving_size',\n",
       "       'serving_quantity', 'labels', 'ecoscore_grade_fr', 'ecoscore_score_fr',\n",
       "       'energy_kcal_100g'],\n",
       "      dtype='object')"
      ]
     },
     "execution_count": 29,
     "metadata": {},
     "output_type": "execute_result"
    }
   ],
   "source": [
    "dg.columns"
   ]
  },
  {
   "cell_type": "code",
   "execution_count": 30,
   "metadata": {},
   "outputs": [],
   "source": [
    "dg.drop('serving_size',axis=1,inplace=True)"
   ]
  },
  {
   "cell_type": "markdown",
   "metadata": {},
   "source": [
    "Transformation du nova_group en type objet"
   ]
  },
  {
   "cell_type": "code",
   "execution_count": 31,
   "metadata": {},
   "outputs": [],
   "source": [
    "novadict={1:'1',2:'2',3:'3',4:'4'}"
   ]
  },
  {
   "cell_type": "code",
   "execution_count": 32,
   "metadata": {},
   "outputs": [],
   "source": [
    "dg['nova_group']=dg.nova_group.map(novadict)"
   ]
  },
  {
   "cell_type": "markdown",
   "metadata": {},
   "source": [
    "### Suppression des valeurs aberrantes"
   ]
  },
  {
   "cell_type": "markdown",
   "metadata": {},
   "source": [
    "On contrôle les valeurs de toutes les colonnes du dataframe dg sauf les code, url, marque, labels et noms de produit."
   ]
  },
  {
   "cell_type": "code",
   "execution_count": 33,
   "metadata": {},
   "outputs": [],
   "source": [
    "dh=dg.select_dtypes(include = ['object'] )"
   ]
  },
  {
   "cell_type": "code",
   "execution_count": 34,
   "metadata": {},
   "outputs": [],
   "source": [
    "col_to_control=[col for col in dh if col not in ['code','url','brands','brands_tags','product_name','quantity','labels','last_modified_t','last_modified_datetime']]"
   ]
  },
  {
   "cell_type": "code",
   "execution_count": 35,
   "metadata": {
    "scrolled": true
   },
   "outputs": [
    {
     "name": "stdout",
     "output_type": "stream",
     "text": [
      "Valeurs uniques de nutriscore_grade: [nan 'd' 'b' 'a' 'c' 'e'] \n",
      "`\n",
      "\n",
      "Valeurs uniques de nova_group: [nan '4' '3' '1' '2'] \n",
      "`\n",
      "\n",
      "Valeurs uniques de pnns_groups_1: ['unknown' 'Fat and sauces' 'Composite foods' 'Sugary snacks'\n",
      " 'Fruits and vegetables' 'Fish Meat Eggs' 'Beverages'\n",
      " 'Milk and dairy products' 'Cereals and potatoes' 'Salty snacks'\n",
      " 'Alcoholic beverages' nan 'sugary-snacks'] \n",
      "`\n",
      "\n",
      "Valeurs uniques de pnns_groups_2: ['unknown' 'Dressings and sauces' 'One-dish meals' 'Biscuits and cakes'\n",
      " 'Fruits' 'Meat' 'Sweetened beverages' 'Cheese' 'Bread' 'Fish and seafood'\n",
      " 'Sweets' 'Salty and fatty products' 'Fruit juices' 'Dried fruits'\n",
      " 'Vegetables' 'Fats' 'Dairy desserts' 'Milk and yogurt' 'Pastries'\n",
      " 'Pizza pies and quiches' 'Legumes' 'Unsweetened beverages' 'Nuts'\n",
      " 'Cereals' 'Alcoholic beverages' 'Breakfast cereals' 'Appetizers'\n",
      " 'Processed meat' nan 'Chocolate products' 'Eggs'\n",
      " 'Plant-based milk substitutes' 'Sandwiches' 'Ice cream' 'Soups'\n",
      " 'Teas and herbal teas and coffees' 'Potatoes'\n",
      " 'Artificially sweetened beverages' 'Waters and flavored waters' 'Offals'\n",
      " 'Fruit nectars' 'pastries' 'Pizza pies and quiche'] \n",
      "`\n",
      "\n",
      "Valeurs uniques de ecoscore_grade_fr: [nan 'c' 'b' 'd' 'e' 'a'] \n",
      "`\n",
      "\n"
     ]
    }
   ],
   "source": [
    "# On observe les valeurs unique des variables catégorielles. \n",
    "for col in col_to_control:\n",
    "    if dg[col].dtypes=='object':\n",
    "        print('Valeurs uniques de {}: {} \\n`\\n'.format(col,dg[col].unique()))"
   ]
  },
  {
   "cell_type": "markdown",
   "metadata": {},
   "source": [
    "Les valeurs prises par les variables catégorielles retenues sont cohérentes. "
   ]
  },
  {
   "cell_type": "code",
   "execution_count": 36,
   "metadata": {
    "scrolled": true
   },
   "outputs": [],
   "source": [
    "for col in col_to_control :\n",
    "    if dg[col].dtypes=='float64':\n",
    "        print('Indicateurs statistiques {}: {} \\n`\\n'.format(col,dg[col].describe()))"
   ]
  },
  {
   "cell_type": "markdown",
   "metadata": {},
   "source": [
    "Les valeurs extrêmes de l'énergie, des nutriments et de la masse des portions ne sont pas cohérentes."
   ]
  },
  {
   "cell_type": "code",
   "execution_count": 37,
   "metadata": {},
   "outputs": [],
   "source": [
    "#suppression des valeurs extrêmes de l'énergie pour 100g\n",
    "dg=dg[(dg['energy_kcal_100g']<=1000)&(dg['energy_kcal_100g']>=0)]"
   ]
  },
  {
   "cell_type": "code",
   "execution_count": 38,
   "metadata": {},
   "outputs": [
    {
     "data": {
      "text/plain": [
       "(1539831, 27)"
      ]
     },
     "execution_count": 38,
     "metadata": {},
     "output_type": "execute_result"
    }
   ],
   "source": [
    "dg.shape"
   ]
  },
  {
   "cell_type": "code",
   "execution_count": 39,
   "metadata": {},
   "outputs": [],
   "source": [
    "#suppression des valeurs extremes des apports nutritionnels pour 100 g : \n",
    "#nettoyage des autres variables d'informations nutritionnelles : 'proteins_100g','fat_100g','saturated-fat_100g','carbohydrates_100g', 'sugars_100g','salt_100g','fiber_100g']:\n",
    "for c in ['proteins_100g','fat_100g','saturated-fat_100g','carbohydrates_100g',\\\n",
    "          'sugars_100g','salt_100g','sodium_100g','fiber_100g']:\n",
    "    dg=dg[(dg[c]<=100)&(dg[c]>=0)]"
   ]
  },
  {
   "cell_type": "code",
   "execution_count": 40,
   "metadata": {},
   "outputs": [],
   "source": [
    "dh=dg[['proteins_100g','fat_100g','saturated-fat_100g','carbohydrates_100g', 'sugars_100g','salt_100g','sodium_100g','fiber_100g']]"
   ]
  },
  {
   "cell_type": "code",
   "execution_count": 41,
   "metadata": {},
   "outputs": [
    {
     "data": {
      "image/png": "[encoded data removed]",
      "text/plain": [
       "<Figure size 720x576 with 1 Axes>"
      ]
     },
     "metadata": {
      "needs_background": "light"
     },
     "output_type": "display_data"
    }
   ],
   "source": [
    "plt.figure(figsize=((10,8)))\n",
    "sns.boxplot(data=dh,orient=\"h\",palette=\"Set2\")\n",
    "plt.title('Répartition des valeurs nuitritionnelles pour 100g')\n",
    "plt.show()"
   ]
  },
  {
   "cell_type": "code",
   "execution_count": 42,
   "metadata": {},
   "outputs": [
    {
     "data": {
      "text/plain": [
       "(459180, 27)"
      ]
     },
     "execution_count": 42,
     "metadata": {},
     "output_type": "execute_result"
    }
   ],
   "source": [
    "dg.shape"
   ]
  },
  {
   "cell_type": "markdown",
   "metadata": {},
   "source": [
    "On filtre si la somme des nutriments pour 100g est supérieure à 100g ( on choisit d'accepeter 1 g d'erreur)."
   ]
  },
  {
   "cell_type": "code",
   "execution_count": 43,
   "metadata": {},
   "outputs": [],
   "source": [
    "dg['sum_nutr']=dg['proteins_100g']+dg['fat_100g']+dg['fiber_100g']+dg['salt_100g']+dg['carbohydrates_100g']"
   ]
  },
  {
   "cell_type": "code",
   "execution_count": 44,
   "metadata": {
    "scrolled": false
   },
   "outputs": [],
   "source": [
    "#dg[dg['sum_nutr']>=101].loc[:,['code','product_name','brands','sum_nutr','serving_quantity']].sort_values(by='code',ascending=True)\n"
   ]
  },
  {
   "cell_type": "code",
   "execution_count": 45,
   "metadata": {},
   "outputs": [],
   "source": [
    "dg=dg[dg['sum_nutr']<101] #suppression si la somme des masses de proteines, graisses, glucides, fibres et sel est >101\n"
   ]
  },
  {
   "cell_type": "code",
   "execution_count": 46,
   "metadata": {
    "scrolled": true
   },
   "outputs": [],
   "source": [
    "#dg.loc[:,['code','product_name','brands']].sort_values(by=['product_name','brands'])[:20]"
   ]
  },
  {
   "cell_type": "code",
   "execution_count": 47,
   "metadata": {},
   "outputs": [
    {
     "data": {
      "text/plain": [
       "(430129, 28)"
      ]
     },
     "execution_count": 47,
     "metadata": {},
     "output_type": "execute_result"
    }
   ],
   "source": [
    "dg.shape"
   ]
  },
  {
   "cell_type": "code",
   "execution_count": 48,
   "metadata": {},
   "outputs": [],
   "source": [
    "dg.reset_index(inplace=True,drop=True)"
   ]
  },
  {
   "cell_type": "code",
   "execution_count": 49,
   "metadata": {},
   "outputs": [
    {
     "data": {
      "text/plain": [
       "array(['endives', nan, 'courte-paille', 'watt', 'jeff-de-bruges', 'crous',\n",
       "       'crous-resto,crous', 'ferme-de-la-fremondiere', 'crous-resto',\n",
       "       'ferme-t-y-r-nao', 'torn-glasser', 'ferme-de-l-aiguemarse',\n",
       "       'crousresto', 'wrights-of-howth', 'chocolaterie-monbana',\n",
       "       'le-bois-jumel', 'abtey', 'les-jardins-de-gaia', 'grizzlies',\n",
       "       'bob-s-red-mill', 'unfi', 'lundberg', 'daddy-s-muesli',\n",
       "       'equal-exchange', 'napa-valley-naturals', 'gardentime', 'sunridge',\n",
       "       'eden', 'agrosourcing', 'pcc'], dtype=object)"
      ]
     },
     "execution_count": 49,
     "metadata": {},
     "output_type": "execute_result"
    }
   ],
   "source": [
    "df['brands_tags'].unique()[:30]"
   ]
  },
  {
   "cell_type": "code",
   "execution_count": 50,
   "metadata": {},
   "outputs": [
    {
     "data": {
      "text/plain": [
       "array(['endives', nan, 'courte paille', 'Watt', 'Jeff de Bruges', 'CROUS',\n",
       "       \"Crous Resto',Crous\", 'Ferme De La Frémondière', 'Crous',\n",
       "       'Crous resto', \"Ferme t'y R'nao\", 'Torn & Glasser',\n",
       "       \"Ferme de l'Aiguemarse\", \"Crousresto'\", 'Wrights of Howth',\n",
       "       'Chocolaterie Monbana', 'Le Bois Jumel', 'crous resto', 'Abtey',\n",
       "       'Les Jardins de Gaïa', 'Grizzlies', \"Bob's Red Mill\", 'Unfi',\n",
       "       'Lundberg', \"Daddy's Muesli\", 'Equal Exchange',\n",
       "       'Napa Valley Naturals', 'Gardentime', 'Sunridge', 'Eden'],\n",
       "      dtype=object)"
      ]
     },
     "execution_count": 50,
     "metadata": {},
     "output_type": "execute_result"
    }
   ],
   "source": [
    "df['brands'].unique()[:30]"
   ]
  },
  {
   "cell_type": "markdown",
   "metadata": {},
   "source": [
    "On choisira d\\'utiliser plutôt brands_tags qui ne semble pas contenir de caractères spéciaux, accents, et est en minuscule"
   ]
  },
  {
   "cell_type": "code",
   "execution_count": 51,
   "metadata": {},
   "outputs": [],
   "source": [
    "dg=dg.drop('brands',axis=1)"
   ]
  },
  {
   "cell_type": "markdown",
   "metadata": {},
   "source": [
    "Finalement, on enlève les lignes contenant des valeurs aberrantes pour les tailles de portion. On fixe la valeur maximale à 430 (g) ( masse d'une portion de plusieurs plats préparés)"
   ]
  },
  {
   "cell_type": "code",
   "execution_count": 52,
   "metadata": {},
   "outputs": [
    {
     "data": {
      "text/html": [
       "<div>\n",
       "<style scoped>\n",
       "    .dataframe tbody tr th:only-of-type {\n",
       "        vertical-align: middle;\n",
       "    }\n",
       "\n",
       "    .dataframe tbody tr th {\n",
       "        vertical-align: top;\n",
       "    }\n",
       "\n",
       "    .dataframe thead th {\n",
       "        text-align: right;\n",
       "    }\n",
       "</style>\n",
       "<table border=\"1\" class=\"dataframe\">\n",
       "  <thead>\n",
       "    <tr style=\"text-align: right;\">\n",
       "      <th></th>\n",
       "      <th>product_name</th>\n",
       "      <th>serving_quantity</th>\n",
       "      <th>brands_tags</th>\n",
       "    </tr>\n",
       "  </thead>\n",
       "  <tbody>\n",
       "    <tr>\n",
       "      <th>278233</th>\n",
       "      <td>Couscous</td>\n",
       "      <td>430.0</td>\n",
       "      <td>leader-price</td>\n",
       "    </tr>\n",
       "    <tr>\n",
       "      <th>389713</th>\n",
       "      <td>Ravioli alla Napoletana M-Classic</td>\n",
       "      <td>430.0</td>\n",
       "      <td>migros,m-classic,bischofszell</td>\n",
       "    </tr>\n",
       "    <tr>\n",
       "      <th>324313</th>\n",
       "      <td>La 4 Formaggi</td>\n",
       "      <td>430.0</td>\n",
       "      <td>la-gastronomia-di-angelo</td>\n",
       "    </tr>\n",
       "    <tr>\n",
       "      <th>323903</th>\n",
       "      <td>Blanquette de légumes rôtis &amp; riz rouge bio</td>\n",
       "      <td>430.0</td>\n",
       "      <td>seazon</td>\n",
       "    </tr>\n",
       "    <tr>\n",
       "      <th>254985</th>\n",
       "      <td>Pizza Quattro Stagioni</td>\n",
       "      <td>430.0</td>\n",
       "      <td>mclassic,migros,jowa</td>\n",
       "    </tr>\n",
       "    <tr>\n",
       "      <th>386608</th>\n",
       "      <td>M Classic Ravioli alle verdure</td>\n",
       "      <td>430.0</td>\n",
       "      <td>m-classic</td>\n",
       "    </tr>\n",
       "    <tr>\n",
       "      <th>395427</th>\n",
       "      <td>Pizza bella napoli</td>\n",
       "      <td>430.0</td>\n",
       "      <td>buitoni</td>\n",
       "    </tr>\n",
       "    <tr>\n",
       "      <th>380234</th>\n",
       "      <td>Chili con carne</td>\n",
       "      <td>430.0</td>\n",
       "      <td>coop</td>\n",
       "    </tr>\n",
       "    <tr>\n",
       "      <th>389813</th>\n",
       "      <td>Ravioli Napoli farcis à la viande de boeuf</td>\n",
       "      <td>430.0</td>\n",
       "      <td>bischofszell</td>\n",
       "    </tr>\n",
       "    <tr>\n",
       "      <th>380343</th>\n",
       "      <td>Ravioli alla napoletana</td>\n",
       "      <td>430.0</td>\n",
       "      <td>coop-naturaplan</td>\n",
       "    </tr>\n",
       "    <tr>\n",
       "      <th>384913</th>\n",
       "      <td>Ernst Wagners Bella Napoli  - Diavola</td>\n",
       "      <td>430.0</td>\n",
       "      <td>wagner</td>\n",
       "    </tr>\n",
       "    <tr>\n",
       "      <th>242343</th>\n",
       "      <td>Verse Pizza Tonno</td>\n",
       "      <td>430.0</td>\n",
       "      <td>mama-mancini</td>\n",
       "    </tr>\n",
       "    <tr>\n",
       "      <th>383758</th>\n",
       "      <td>Big Pizza Boston</td>\n",
       "      <td>430.0</td>\n",
       "      <td>wagner,nestle</td>\n",
       "    </tr>\n",
       "    <tr>\n",
       "      <th>384683</th>\n",
       "      <td>Maggi Fix für Spaghetti Bolognese</td>\n",
       "      <td>430.0</td>\n",
       "      <td>maggi</td>\n",
       "    </tr>\n",
       "    <tr>\n",
       "      <th>389736</th>\n",
       "      <td>Chili mit Fleisch</td>\n",
       "      <td>430.0</td>\n",
       "      <td>m-classic</td>\n",
       "    </tr>\n",
       "    <tr>\n",
       "      <th>278049</th>\n",
       "      <td>Couscous</td>\n",
       "      <td>430.0</td>\n",
       "      <td>leader-price</td>\n",
       "    </tr>\n",
       "    <tr>\n",
       "      <th>50161</th>\n",
       "      <td>Pine nut-crusted salmon</td>\n",
       "      <td>430.0</td>\n",
       "      <td>NaN</td>\n",
       "    </tr>\n",
       "    <tr>\n",
       "      <th>375</th>\n",
       "      <td>Salade Bergerac</td>\n",
       "      <td>430.0</td>\n",
       "      <td>crous-languedoc-roussillon</td>\n",
       "    </tr>\n",
       "    <tr>\n",
       "      <th>358597</th>\n",
       "      <td>Pechuga de pollo a la brasa con piquillos asados</td>\n",
       "      <td>430.0</td>\n",
       "      <td>wetaca</td>\n",
       "    </tr>\n",
       "    <tr>\n",
       "      <th>380153</th>\n",
       "      <td>Ravioli alla bolognese</td>\n",
       "      <td>430.0</td>\n",
       "      <td>coop,qualite-prix</td>\n",
       "    </tr>\n",
       "  </tbody>\n",
       "</table>\n",
       "</div>"
      ],
      "text/plain": [
       "                                            product_name  serving_quantity  \\\n",
       "278233                                          Couscous             430.0   \n",
       "389713                 Ravioli alla Napoletana M-Classic             430.0   \n",
       "324313                                     La 4 Formaggi             430.0   \n",
       "323903       Blanquette de légumes rôtis & riz rouge bio             430.0   \n",
       "254985                            Pizza Quattro Stagioni             430.0   \n",
       "386608                    M Classic Ravioli alle verdure             430.0   \n",
       "395427                                Pizza bella napoli             430.0   \n",
       "380234                                   Chili con carne             430.0   \n",
       "389813        Ravioli Napoli farcis à la viande de boeuf             430.0   \n",
       "380343                           Ravioli alla napoletana             430.0   \n",
       "384913             Ernst Wagners Bella Napoli  - Diavola             430.0   \n",
       "242343                                 Verse Pizza Tonno             430.0   \n",
       "383758                                  Big Pizza Boston             430.0   \n",
       "384683                 Maggi Fix für Spaghetti Bolognese             430.0   \n",
       "389736                                 Chili mit Fleisch             430.0   \n",
       "278049                                          Couscous             430.0   \n",
       "50161                            Pine nut-crusted salmon             430.0   \n",
       "375                                      Salade Bergerac             430.0   \n",
       "358597  Pechuga de pollo a la brasa con piquillos asados             430.0   \n",
       "380153                            Ravioli alla bolognese             430.0   \n",
       "\n",
       "                          brands_tags  \n",
       "278233                   leader-price  \n",
       "389713  migros,m-classic,bischofszell  \n",
       "324313       la-gastronomia-di-angelo  \n",
       "323903                         seazon  \n",
       "254985           mclassic,migros,jowa  \n",
       "386608                      m-classic  \n",
       "395427                        buitoni  \n",
       "380234                           coop  \n",
       "389813                   bischofszell  \n",
       "380343                coop-naturaplan  \n",
       "384913                         wagner  \n",
       "242343                   mama-mancini  \n",
       "383758                  wagner,nestle  \n",
       "384683                          maggi  \n",
       "389736                      m-classic  \n",
       "278049                   leader-price  \n",
       "50161                             NaN  \n",
       "375        crous-languedoc-roussillon  \n",
       "358597                         wetaca  \n",
       "380153              coop,qualite-prix  "
      ]
     },
     "execution_count": 52,
     "metadata": {},
     "output_type": "execute_result"
    }
   ],
   "source": [
    "dg[dg['serving_quantity']<=430][['product_name','serving_quantity','brands_tags']].sort_values('serving_quantity',ascending=False).head(20)"
   ]
  },
  {
   "cell_type": "code",
   "execution_count": 53,
   "metadata": {},
   "outputs": [],
   "source": [
    "dg=dg[(dg['serving_quantity']<=430)&(dg['serving_quantity']>=0)]"
   ]
  },
  {
   "cell_type": "code",
   "execution_count": 54,
   "metadata": {},
   "outputs": [
    {
     "data": {
      "text/plain": [
       "(312623, 27)"
      ]
     },
     "execution_count": 54,
     "metadata": {},
     "output_type": "execute_result"
    }
   ],
   "source": [
    "dg.shape"
   ]
  },
  {
   "cell_type": "markdown",
   "metadata": {},
   "source": [
    "### Suppression des doublons (2)"
   ]
  },
  {
   "cell_type": "markdown",
   "metadata": {},
   "source": [
    "Le code EAN-13 identifie les produits alimenhtaires de façon unique (https://fr.wikipedia.org/wiki/Code-barres_EAN). En navigant sur le site openfoodfacts.fr, il est mentionné pour certains produits que le code affiché peut être un code interne à l'entreprise ( exemple https://fr.openfoodfacts.org/produit/25279269/creme-brulee-aldi ). Nous allons donc enlever :\n",
    "\n",
    "- Les doubons sur les codes à 13 chiffres\n",
    "\n",
    "- les doublons sur les codes de produits de même marque\n",
    "\n",
    "Dans les deux cas, nous garderons la ligne où il y a le plus de champs renseigné.\n",
    "\n",
    "On remarque qu'en complétant certains code par des zéros à gauche, on obtiendrait le code EAN du produit mais nous ne traiterons pas ces cas. "
   ]
  },
  {
   "cell_type": "code",
   "execution_count": 55,
   "metadata": {},
   "outputs": [],
   "source": [
    "#Définition de la longueur du code\n",
    "dg['len_code']=dg['code'].apply(lambda x: len(str(x)))"
   ]
  },
  {
   "cell_type": "code",
   "execution_count": 56,
   "metadata": {},
   "outputs": [],
   "source": [
    "#Définition du nombre de valeurs renseignées\n",
    "dg['nb_values']=dg.notna().sum(axis=1)"
   ]
  },
  {
   "cell_type": "code",
   "execution_count": 57,
   "metadata": {},
   "outputs": [],
   "source": [
    "#On ordonne par nombre de valeurs renseignées\n",
    "dg=dg.sort_values('nb_values',ascending=False)"
   ]
  },
  {
   "cell_type": "code",
   "execution_count": 58,
   "metadata": {},
   "outputs": [],
   "source": [
    "#On enlève les doublons si le code a 13 chiffres\n",
    "dg=dg[dg['len_code']==13].drop_duplicates('code',keep='first') "
   ]
  },
  {
   "cell_type": "code",
   "execution_count": 59,
   "metadata": {},
   "outputs": [],
   "source": [
    "#On enlève les doublons si les codes et les marques sont identiques\n",
    "dg=dg.sort_values('nb_values',ascending=False)\n",
    "dg=dg.drop_duplicates(['code','brands_tags'],keep='first')"
   ]
  },
  {
   "cell_type": "code",
   "execution_count": 60,
   "metadata": {},
   "outputs": [],
   "source": [
    "dg.reset_index(drop=True,inplace=True)"
   ]
  },
  {
   "cell_type": "code",
   "execution_count": 61,
   "metadata": {},
   "outputs": [
    {
     "data": {
      "text/plain": [
       "(108652, 29)"
      ]
     },
     "execution_count": 61,
     "metadata": {},
     "output_type": "execute_result"
    }
   ],
   "source": [
    "dg.shape"
   ]
  },
  {
   "cell_type": "markdown",
   "metadata": {},
   "source": [
    "### Les produits sans gluten"
   ]
  },
  {
   "cell_type": "code",
   "execution_count": 62,
   "metadata": {},
   "outputs": [],
   "source": [
    "#dg[dg['labels'].notnull()]['labels'][0:50]"
   ]
  },
  {
   "cell_type": "code",
   "execution_count": 63,
   "metadata": {},
   "outputs": [],
   "source": [
    "#nettoyage du caractère \"en:\""
   ]
  },
  {
   "cell_type": "code",
   "execution_count": 64,
   "metadata": {},
   "outputs": [],
   "source": [
    "dg['labels']=dg['labels'].str.replace('en:','')"
   ]
  },
  {
   "cell_type": "code",
   "execution_count": 65,
   "metadata": {},
   "outputs": [],
   "source": [
    "def nogluten(x):\n",
    "    '''x est une chaîne de caractères\n",
    "    La fonction renvoie 1 si x contient une mention sans gluten, 0 sinon '''\n",
    "    if re.search('(free.\\s{0,4}gluten|gluten.\\s{0,4}free|(sans|no|without).\\s{0,4}gluten)',str(x),re.IGNORECASE):\n",
    "        return True\n",
    "    else:\n",
    "        return False"
   ]
  },
  {
   "cell_type": "code",
   "execution_count": 66,
   "metadata": {},
   "outputs": [],
   "source": [
    "dg['gluten_free']=dg['labels'].apply(nogluten)"
   ]
  },
  {
   "cell_type": "code",
   "execution_count": 67,
   "metadata": {},
   "outputs": [
    {
     "data": {
      "text/plain": [
       "Index(['code', 'last_modified_t', 'last_modified_datetime', 'url',\n",
       "       'brands_tags', 'product_name', 'additives_n',\n",
       "       'ingredients_from_palm_oil_n', 'nutriscore_grade', 'nutriscore_score',\n",
       "       'nova_group', 'pnns_groups_1', 'pnns_groups_2', 'proteins_100g',\n",
       "       'fat_100g', 'saturated-fat_100g', 'carbohydrates_100g', 'sugars_100g',\n",
       "       'fiber_100g', 'salt_100g', 'sodium_100g', 'serving_quantity', 'labels',\n",
       "       'ecoscore_grade_fr', 'ecoscore_score_fr', 'energy_kcal_100g',\n",
       "       'sum_nutr', 'len_code', 'nb_values', 'gluten_free'],\n",
       "      dtype='object')"
      ]
     },
     "execution_count": 67,
     "metadata": {},
     "output_type": "execute_result"
    }
   ],
   "source": [
    "dg.columns"
   ]
  },
  {
   "cell_type": "code",
   "execution_count": 68,
   "metadata": {},
   "outputs": [],
   "source": [
    "dg=dg.drop(['last_modified_t','last_modified_datetime','len_code','sum_nutr','nb_values'],axis=1)"
   ]
  },
  {
   "cell_type": "code",
   "execution_count": 69,
   "metadata": {},
   "outputs": [
    {
     "data": {
      "text/plain": [
       "(4190, 25)"
      ]
     },
     "execution_count": 69,
     "metadata": {},
     "output_type": "execute_result"
    }
   ],
   "source": [
    "dg[dg['gluten_free']==True].shape"
   ]
  },
  {
   "cell_type": "code",
   "execution_count": 70,
   "metadata": {},
   "outputs": [
    {
     "data": {
      "text/plain": [
       "(108652, 25)"
      ]
     },
     "execution_count": 70,
     "metadata": {},
     "output_type": "execute_result"
    }
   ],
   "source": [
    "dg.shape"
   ]
  },
  {
   "cell_type": "code",
   "execution_count": 71,
   "metadata": {},
   "outputs": [
    {
     "data": {
      "text/plain": [
       "Index(['code', 'url', 'brands_tags', 'product_name', 'additives_n',\n",
       "       'ingredients_from_palm_oil_n', 'nutriscore_grade', 'nutriscore_score',\n",
       "       'nova_group', 'pnns_groups_1', 'pnns_groups_2', 'proteins_100g',\n",
       "       'fat_100g', 'saturated-fat_100g', 'carbohydrates_100g', 'sugars_100g',\n",
       "       'fiber_100g', 'salt_100g', 'sodium_100g', 'serving_quantity', 'labels',\n",
       "       'ecoscore_grade_fr', 'ecoscore_score_fr', 'energy_kcal_100g',\n",
       "       'gluten_free'],\n",
       "      dtype='object')"
      ]
     },
     "execution_count": 71,
     "metadata": {},
     "output_type": "execute_result"
    }
   ],
   "source": [
    "dg.columns"
   ]
  },
  {
   "cell_type": "markdown",
   "metadata": {},
   "source": [
    "### Traitement des valeurs manquantes"
   ]
  },
  {
   "cell_type": "code",
   "execution_count": 72,
   "metadata": {},
   "outputs": [
    {
     "data": {
      "image/png": "[encoded data removed]",
      "text/plain": [
       "<Figure size 1800x720 with 2 Axes>"
      ]
     },
     "metadata": {
      "needs_background": "light"
     },
     "output_type": "display_data"
    }
   ],
   "source": [
    "#valeurs manquantes après suppression des valeurs aberrantes et des doublons\n",
    "msno.matrix(dg)\n",
    "plt.show()"
   ]
  },
  {
   "cell_type": "markdown",
   "metadata": {},
   "source": [
    "On remplace les valeurs manquantes des variables quantitatives par la médiane."
   ]
  },
  {
   "cell_type": "code",
   "execution_count": 73,
   "metadata": {},
   "outputs": [],
   "source": [
    "from sklearn.impute import SimpleImputer"
   ]
  },
  {
   "cell_type": "code",
   "execution_count": 74,
   "metadata": {},
   "outputs": [],
   "source": [
    "numeric_dg = dg.select_dtypes(include=[np.number])\n",
    "numeric_dg=numeric_dg.drop('nutriscore_score',axis=1) #Les nutriscores sont imputés dans le 2e notebook"
   ]
  },
  {
   "cell_type": "code",
   "execution_count": 76,
   "metadata": {},
   "outputs": [
    {
     "name": "stdout",
     "output_type": "stream",
     "text": [
      "additives_n 0.09691492103228656\n",
      "ingredients_from_palm_oil_n 0.09691492103228656\n",
      "proteins_100g 0.0\n",
      "fat_100g 0.0\n",
      "saturated-fat_100g 0.0\n",
      "carbohydrates_100g 0.0\n",
      "sugars_100g 0.0\n",
      "fiber_100g 0.0\n",
      "salt_100g 0.0\n",
      "sodium_100g 0.0\n",
      "serving_quantity 0.0\n",
      "ecoscore_score_fr 0.5595571181386445\n",
      "energy_kcal_100g 0.0\n"
     ]
    }
   ],
   "source": [
    "for col in numeric_dg.columns:\n",
    "    print(col,dg[col].isna().mean())\n",
    "#pourcentage de valeurs manquantes après nettoyage"
   ]
  },
  {
   "cell_type": "code",
   "execution_count": 77,
   "metadata": {},
   "outputs": [],
   "source": [
    "imp_median = SimpleImputer(strategy='median')\n",
    "dg_imp_num= imp_median.fit_transform(numeric_dg)\n",
    "dg_imp_numDF=pd.DataFrame(dg_imp_num,columns=numeric_dg.columns)"
   ]
  },
  {
   "cell_type": "code",
   "execution_count": 78,
   "metadata": {},
   "outputs": [
    {
     "data": {
      "text/html": [
       "<div>\n",
       "<style scoped>\n",
       "    .dataframe tbody tr th:only-of-type {\n",
       "        vertical-align: middle;\n",
       "    }\n",
       "\n",
       "    .dataframe tbody tr th {\n",
       "        vertical-align: top;\n",
       "    }\n",
       "\n",
       "    .dataframe thead th {\n",
       "        text-align: right;\n",
       "    }\n",
       "</style>\n",
       "<table border=\"1\" class=\"dataframe\">\n",
       "  <thead>\n",
       "    <tr style=\"text-align: right;\">\n",
       "      <th></th>\n",
       "      <th>additives_n</th>\n",
       "      <th>ingredients_from_palm_oil_n</th>\n",
       "      <th>proteins_100g</th>\n",
       "      <th>fat_100g</th>\n",
       "      <th>saturated-fat_100g</th>\n",
       "      <th>carbohydrates_100g</th>\n",
       "      <th>sugars_100g</th>\n",
       "      <th>fiber_100g</th>\n",
       "      <th>salt_100g</th>\n",
       "      <th>sodium_100g</th>\n",
       "      <th>serving_quantity</th>\n",
       "      <th>ecoscore_score_fr</th>\n",
       "      <th>energy_kcal_100g</th>\n",
       "    </tr>\n",
       "  </thead>\n",
       "  <tbody>\n",
       "    <tr>\n",
       "      <th>0</th>\n",
       "      <td>5.0</td>\n",
       "      <td>0.0</td>\n",
       "      <td>2.7</td>\n",
       "      <td>4.5</td>\n",
       "      <td>3.0</td>\n",
       "      <td>18.5</td>\n",
       "      <td>16.6</td>\n",
       "      <td>1.0</td>\n",
       "      <td>0.1000</td>\n",
       "      <td>0.04000</td>\n",
       "      <td>115.0</td>\n",
       "      <td>62.0</td>\n",
       "      <td>126.912046</td>\n",
       "    </tr>\n",
       "    <tr>\n",
       "      <th>1</th>\n",
       "      <td>0.0</td>\n",
       "      <td>0.0</td>\n",
       "      <td>8.9</td>\n",
       "      <td>60.0</td>\n",
       "      <td>36.0</td>\n",
       "      <td>11.0</td>\n",
       "      <td>3.9</td>\n",
       "      <td>14.0</td>\n",
       "      <td>0.0000</td>\n",
       "      <td>0.00000</td>\n",
       "      <td>9.0</td>\n",
       "      <td>39.0</td>\n",
       "      <td>647.944551</td>\n",
       "    </tr>\n",
       "    <tr>\n",
       "      <th>2</th>\n",
       "      <td>8.0</td>\n",
       "      <td>0.0</td>\n",
       "      <td>3.8</td>\n",
       "      <td>20.0</td>\n",
       "      <td>2.2</td>\n",
       "      <td>56.0</td>\n",
       "      <td>36.0</td>\n",
       "      <td>2.8</td>\n",
       "      <td>0.5400</td>\n",
       "      <td>0.21600</td>\n",
       "      <td>40.0</td>\n",
       "      <td>49.0</td>\n",
       "      <td>418.021033</td>\n",
       "    </tr>\n",
       "    <tr>\n",
       "      <th>3</th>\n",
       "      <td>7.0</td>\n",
       "      <td>1.0</td>\n",
       "      <td>4.7</td>\n",
       "      <td>22.0</td>\n",
       "      <td>4.3</td>\n",
       "      <td>57.0</td>\n",
       "      <td>35.0</td>\n",
       "      <td>1.5</td>\n",
       "      <td>0.8800</td>\n",
       "      <td>0.35200</td>\n",
       "      <td>33.3</td>\n",
       "      <td>38.0</td>\n",
       "      <td>441.682600</td>\n",
       "    </tr>\n",
       "    <tr>\n",
       "      <th>4</th>\n",
       "      <td>2.0</td>\n",
       "      <td>0.0</td>\n",
       "      <td>18.0</td>\n",
       "      <td>17.0</td>\n",
       "      <td>7.7</td>\n",
       "      <td>1.1</td>\n",
       "      <td>0.5</td>\n",
       "      <td>0.0</td>\n",
       "      <td>1.3000</td>\n",
       "      <td>0.52000</td>\n",
       "      <td>125.0</td>\n",
       "      <td>-4.0</td>\n",
       "      <td>226.816444</td>\n",
       "    </tr>\n",
       "    <tr>\n",
       "      <th>...</th>\n",
       "      <td>...</td>\n",
       "      <td>...</td>\n",
       "      <td>...</td>\n",
       "      <td>...</td>\n",
       "      <td>...</td>\n",
       "      <td>...</td>\n",
       "      <td>...</td>\n",
       "      <td>...</td>\n",
       "      <td>...</td>\n",
       "      <td>...</td>\n",
       "      <td>...</td>\n",
       "      <td>...</td>\n",
       "      <td>...</td>\n",
       "    </tr>\n",
       "    <tr>\n",
       "      <th>108647</th>\n",
       "      <td>1.0</td>\n",
       "      <td>0.0</td>\n",
       "      <td>10.0</td>\n",
       "      <td>25.0</td>\n",
       "      <td>12.0</td>\n",
       "      <td>58.0</td>\n",
       "      <td>19.0</td>\n",
       "      <td>4.0</td>\n",
       "      <td>0.3000</td>\n",
       "      <td>0.12000</td>\n",
       "      <td>27.0</td>\n",
       "      <td>51.0</td>\n",
       "      <td>505.019120</td>\n",
       "    </tr>\n",
       "    <tr>\n",
       "      <th>108648</th>\n",
       "      <td>1.0</td>\n",
       "      <td>0.0</td>\n",
       "      <td>85.7</td>\n",
       "      <td>2.7</td>\n",
       "      <td>1.1</td>\n",
       "      <td>3.1</td>\n",
       "      <td>1.1</td>\n",
       "      <td>0.0</td>\n",
       "      <td>2.1000</td>\n",
       "      <td>0.84000</td>\n",
       "      <td>60.0</td>\n",
       "      <td>51.0</td>\n",
       "      <td>37.045889</td>\n",
       "    </tr>\n",
       "    <tr>\n",
       "      <th>108649</th>\n",
       "      <td>1.0</td>\n",
       "      <td>0.0</td>\n",
       "      <td>19.5</td>\n",
       "      <td>8.4</td>\n",
       "      <td>1.1</td>\n",
       "      <td>66.5</td>\n",
       "      <td>4.6</td>\n",
       "      <td>3.2</td>\n",
       "      <td>2.8000</td>\n",
       "      <td>1.12000</td>\n",
       "      <td>350.0</td>\n",
       "      <td>51.0</td>\n",
       "      <td>423.040153</td>\n",
       "    </tr>\n",
       "    <tr>\n",
       "      <th>108650</th>\n",
       "      <td>1.0</td>\n",
       "      <td>0.0</td>\n",
       "      <td>77.8</td>\n",
       "      <td>4.1</td>\n",
       "      <td>2.9</td>\n",
       "      <td>4.2</td>\n",
       "      <td>4.2</td>\n",
       "      <td>2.6</td>\n",
       "      <td>0.2540</td>\n",
       "      <td>0.10160</td>\n",
       "      <td>25.0</td>\n",
       "      <td>51.0</td>\n",
       "      <td>374.521989</td>\n",
       "    </tr>\n",
       "    <tr>\n",
       "      <th>108651</th>\n",
       "      <td>1.0</td>\n",
       "      <td>0.0</td>\n",
       "      <td>0.7</td>\n",
       "      <td>2.6</td>\n",
       "      <td>1.4</td>\n",
       "      <td>0.6</td>\n",
       "      <td>0.0</td>\n",
       "      <td>0.0</td>\n",
       "      <td>0.0254</td>\n",
       "      <td>0.01016</td>\n",
       "      <td>15.0</td>\n",
       "      <td>51.0</td>\n",
       "      <td>28.441683</td>\n",
       "    </tr>\n",
       "  </tbody>\n",
       "</table>\n",
       "<p>108652 rows × 13 columns</p>\n",
       "</div>"
      ],
      "text/plain": [
       "        additives_n  ingredients_from_palm_oil_n  proteins_100g  fat_100g  \\\n",
       "0               5.0                          0.0            2.7       4.5   \n",
       "1               0.0                          0.0            8.9      60.0   \n",
       "2               8.0                          0.0            3.8      20.0   \n",
       "3               7.0                          1.0            4.7      22.0   \n",
       "4               2.0                          0.0           18.0      17.0   \n",
       "...             ...                          ...            ...       ...   \n",
       "108647          1.0                          0.0           10.0      25.0   \n",
       "108648          1.0                          0.0           85.7       2.7   \n",
       "108649          1.0                          0.0           19.5       8.4   \n",
       "108650          1.0                          0.0           77.8       4.1   \n",
       "108651          1.0                          0.0            0.7       2.6   \n",
       "\n",
       "        saturated-fat_100g  carbohydrates_100g  sugars_100g  fiber_100g  \\\n",
       "0                      3.0                18.5         16.6         1.0   \n",
       "1                     36.0                11.0          3.9        14.0   \n",
       "2                      2.2                56.0         36.0         2.8   \n",
       "3                      4.3                57.0         35.0         1.5   \n",
       "4                      7.7                 1.1          0.5         0.0   \n",
       "...                    ...                 ...          ...         ...   \n",
       "108647                12.0                58.0         19.0         4.0   \n",
       "108648                 1.1                 3.1          1.1         0.0   \n",
       "108649                 1.1                66.5          4.6         3.2   \n",
       "108650                 2.9                 4.2          4.2         2.6   \n",
       "108651                 1.4                 0.6          0.0         0.0   \n",
       "\n",
       "        salt_100g  sodium_100g  serving_quantity  ecoscore_score_fr  \\\n",
       "0          0.1000      0.04000             115.0               62.0   \n",
       "1          0.0000      0.00000               9.0               39.0   \n",
       "2          0.5400      0.21600              40.0               49.0   \n",
       "3          0.8800      0.35200              33.3               38.0   \n",
       "4          1.3000      0.52000             125.0               -4.0   \n",
       "...           ...          ...               ...                ...   \n",
       "108647     0.3000      0.12000              27.0               51.0   \n",
       "108648     2.1000      0.84000              60.0               51.0   \n",
       "108649     2.8000      1.12000             350.0               51.0   \n",
       "108650     0.2540      0.10160              25.0               51.0   \n",
       "108651     0.0254      0.01016              15.0               51.0   \n",
       "\n",
       "        energy_kcal_100g  \n",
       "0             126.912046  \n",
       "1             647.944551  \n",
       "2             418.021033  \n",
       "3             441.682600  \n",
       "4             226.816444  \n",
       "...                  ...  \n",
       "108647        505.019120  \n",
       "108648         37.045889  \n",
       "108649        423.040153  \n",
       "108650        374.521989  \n",
       "108651         28.441683  \n",
       "\n",
       "[108652 rows x 13 columns]"
      ]
     },
     "execution_count": 78,
     "metadata": {},
     "output_type": "execute_result"
    }
   ],
   "source": [
    "dg_imp_numDF"
   ]
  },
  {
   "cell_type": "code",
   "execution_count": 79,
   "metadata": {},
   "outputs": [
    {
     "data": {
      "image/png": "[encoded data removed]",
      "text/plain": [
       "<Figure size 432x288 with 1 Axes>"
      ]
     },
     "metadata": {
      "needs_background": "light"
     },
     "output_type": "display_data"
    },
    {
     "data": {
      "image/png": "[encoded data removed]",
      "text/plain": [
       "<Figure size 432x288 with 1 Axes>"
      ]
     },
     "metadata": {
      "needs_background": "light"
     },
     "output_type": "display_data"
    },
    {
     "data": {
      "image/png": "[encoded data removed]",
      "text/plain": [
       "<Figure size 432x288 with 1 Axes>"
      ]
     },
     "metadata": {
      "needs_background": "light"
     },
     "output_type": "display_data"
    },
    {
     "data": {
      "image/png": "[encoded data removed]",
      "text/plain": [
       "<Figure size 432x288 with 1 Axes>"
      ]
     },
     "metadata": {
      "needs_background": "light"
     },
     "output_type": "display_data"
    },
    {
     "data": {
      "image/png": "[encoded data removed]",
      "text/plain": [
       "<Figure size 432x288 with 1 Axes>"
      ]
     },
     "metadata": {
      "needs_background": "light"
     },
     "output_type": "display_data"
    },
    {
     "data": {
      "image/png": "[encoded data removed]",
      "text/plain": [
       "<Figure size 432x288 with 1 Axes>"
      ]
     },
     "metadata": {
      "needs_background": "light"
     },
     "output_type": "display_data"
    }
   ],
   "source": [
    "for col in ['additives_n','ingredients_from_palm_oil_n','ecoscore_score_fr']:\n",
    "    sns.boxplot(data=dg_imp_numDF,x=col)\n",
    "    plt.title(col+' distribution avant imputation')\n",
    "    plt.show()\n",
    "    \n",
    "    sns.boxplot(data=dg_imp_numDF,x=col)\n",
    "    plt.title(col+' distribution après imputation')\n",
    "    plt.show()"
   ]
  },
  {
   "cell_type": "code",
   "execution_count": 80,
   "metadata": {},
   "outputs": [
    {
     "data": {
      "text/plain": [
       "(108652, 13)"
      ]
     },
     "execution_count": 80,
     "metadata": {},
     "output_type": "execute_result"
    }
   ],
   "source": [
    "numeric_dg.shape"
   ]
  },
  {
   "cell_type": "code",
   "execution_count": 81,
   "metadata": {},
   "outputs": [],
   "source": [
    "dg.loc[:,numeric_dg.columns]=dg_imp_numDF"
   ]
  },
  {
   "cell_type": "code",
   "execution_count": 82,
   "metadata": {},
   "outputs": [
    {
     "data": {
      "image/png": "[encoded data removed]",
      "text/plain": [
       "<Figure size 1800x720 with 2 Axes>"
      ]
     },
     "metadata": {
      "needs_background": "light"
     },
     "output_type": "display_data"
    }
   ],
   "source": [
    "msno.matrix(dg)\n",
    "plt.show()"
   ]
  },
  {
   "cell_type": "markdown",
   "metadata": {},
   "source": [
    "On remplace les valeurs manquantes des variables quantitatives par 'unknown'"
   ]
  },
  {
   "cell_type": "code",
   "execution_count": 83,
   "metadata": {},
   "outputs": [],
   "source": [
    "for col in dg.columns :\n",
    "    if dg[col].dtypes=='object' and col!='nutriscore_grade':\n",
    "        dg[col]=dg[col].fillna('unknown')"
   ]
  },
  {
   "cell_type": "code",
   "execution_count": 84,
   "metadata": {},
   "outputs": [
    {
     "data": {
      "image/png": "[encoded data removed]",
      "text/plain": [
       "<Figure size 1800x720 with 2 Axes>"
      ]
     },
     "metadata": {
      "needs_background": "light"
     },
     "output_type": "display_data"
    }
   ],
   "source": [
    "msno.matrix(dg)\n",
    "plt.show()"
   ]
  },
  {
   "cell_type": "markdown",
   "metadata": {},
   "source": [
    "Les nutriscores sont imputés dans le 2e notebook."
   ]
  },
  {
   "cell_type": "code",
   "execution_count": 86,
   "metadata": {},
   "outputs": [],
   "source": [
    "dg.to_pickle('dataset_opff_cleaned.pkl')"
   ]
  },
  {
   "cell_type": "code",
   "execution_count": null,
   "metadata": {},
   "outputs": [],
   "source": []
  }
 ],
 "metadata": {
  "kernelspec": {
   "display_name": "Python 3",
   "language": "python",
   "name": "python3"
  },
  "language_info": {
   "codemirror_mode": {
    "name": "ipython",
    "version": 3
   },
   "file_extension": ".py",
   "mimetype": "text/x-python",
   "name": "python",
   "nbconvert_exporter": "python",
   "pygments_lexer": "ipython3",
   "version": "3.8.3"
  }
 },
 "nbformat": 4,
 "nbformat_minor": 4
}
